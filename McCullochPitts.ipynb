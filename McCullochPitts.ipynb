{
 "cells": [
  {
   "cell_type": "markdown",
   "id": "fe9e410c-6ff5-4a49-9f85-4c6ac86de8da",
   "metadata": {},
   "source": [
    "### Step 1: generate a vector of inputs and a vector of weights\n"
   ]
  },
  {
   "cell_type": "code",
   "execution_count": 1,
   "id": "d9634407-d508-4b5a-8219-ceb92de4d4d0",
   "metadata": {},
   "outputs": [],
   "source": [
    "import numpy as np"
   ]
  },
  {
   "cell_type": "code",
   "execution_count": 2,
   "id": "96aef137-3fd1-49e8-99dc-4e19f1434ec5",
   "metadata": {},
   "outputs": [
    {
     "name": "stdout",
     "output_type": "stream",
     "text": [
      "Input vector:[0 1 1], Weight vector:[-1  1  1]\n"
     ]
    }
   ],
   "source": [
    "np.random.seed(seed=0)\n",
    "I = np.random.choice([0,1], 3)\n",
    "W = np.random.choice([-1,1], 3) \n",
    "print(f'Input vector:{I}, Weight vector:{W}')"
   ]
  },
  {
   "cell_type": "markdown",
   "id": "30dbaf0d-6dbf-4118-97e9-38d8714c97d0",
   "metadata": {},
   "source": [
    "### Step 2: compute the dot product between the vector of inputs and weights"
   ]
  },
  {
   "cell_type": "code",
   "execution_count": 3,
   "id": "8fc1b586-9d79-4b0e-a134-d0ebedae28e1",
   "metadata": {},
   "outputs": [
    {
     "name": "stdout",
     "output_type": "stream",
     "text": [
      "Dot product: 2\n"
     ]
    }
   ],
   "source": [
    "dot = I @ W\n",
    "print(f'Dot product: {dot}')"
   ]
  },
  {
   "cell_type": "markdown",
   "id": "7f7233d5-972f-404d-a8fd-f4712cf45d59",
   "metadata": {},
   "source": [
    "### Step 3: define the threshold activation function\n"
   ]
  },
  {
   "cell_type": "code",
   "execution_count": 4,
   "id": "b12f6438-0f4e-45b1-b69e-880653a95fba",
   "metadata": {},
   "outputs": [],
   "source": [
    "def linear_threshold_gate(dot: int, T: float) -> int:\n",
    "    if dot >= T:\n",
    "        return 1\n",
    "    else:\n",
    "        return 0"
   ]
  },
  {
   "cell_type": "markdown",
   "id": "6c71dae8-4e6f-403d-9488-59d04b4eb254",
   "metadata": {},
   "source": [
    "### Step 4: compute the output based on the threshold value"
   ]
  },
  {
   "cell_type": "code",
   "execution_count": 5,
   "id": "ebcbea79-9daa-43b7-88da-8b6386e416a8",
   "metadata": {},
   "outputs": [
    {
     "name": "stdout",
     "output_type": "stream",
     "text": [
      "Activation: 1\n"
     ]
    }
   ],
   "source": [
    "T = 1\n",
    "activation = linear_threshold_gate(dot, T)\n",
    "print(f'Activation: {activation}')"
   ]
  },
  {
   "cell_type": "code",
   "execution_count": 6,
   "id": "dbd5ae22-da40-4fbe-8099-c2312eecc94d",
   "metadata": {},
   "outputs": [
    {
     "name": "stdout",
     "output_type": "stream",
     "text": [
      "Activation: 0\n"
     ]
    }
   ],
   "source": [
    "T = 3\n",
    "activation = linear_threshold_gate(dot, T)\n",
    "print(f'Activation: {activation}')"
   ]
  },
  {
   "cell_type": "markdown",
   "id": "c6c94e8a-7bd5-479e-8c5d-27a810f58014",
   "metadata": {},
   "source": [
    "### Application: boolean algebra using the McCulloch-Pitts artificial neuron"
   ]
  },
  {
   "cell_type": "code",
   "execution_count": 7,
   "id": "30b9720f-91b6-4269-9c25-a3ba5512dae3",
   "metadata": {},
   "outputs": [
    {
     "name": "stdout",
     "output_type": "stream",
     "text": [
      "input table:\n",
      "[[0 0]\n",
      " [0 1]\n",
      " [1 0]\n",
      " [1 1]]\n"
     ]
    }
   ],
   "source": [
    "input_table = np.array([\n",
    "    [0,0],\n",
    "    [0,1],\n",
    "    [1,0],\n",
    "    [1,1]\n",
    "])\n",
    "\n",
    "print(f'input table:\\n{input_table}')"
   ]
  },
  {
   "cell_type": "code",
   "execution_count": 8,
   "id": "1b2ff6cb-3f98-4767-bdb2-43651b3e2436",
   "metadata": {},
   "outputs": [
    {
     "name": "stdout",
     "output_type": "stream",
     "text": [
      "weights: [1 1]\n"
     ]
    }
   ],
   "source": [
    "weights = np.array([1,1])\n",
    "print(f'weights: {weights}')"
   ]
  },
  {
   "cell_type": "markdown",
   "id": "4c1e397c-6a2c-47bb-9436-ed996defc559",
   "metadata": {},
   "source": [
    "### Step 2: compute the dot product between the matrix of inputs and weights"
   ]
  },
  {
   "cell_type": "code",
   "execution_count": 9,
   "id": "950ac572-2c07-4444-884d-45fd597be0a4",
   "metadata": {},
   "outputs": [
    {
     "name": "stdout",
     "output_type": "stream",
     "text": [
      "Dot products: [0 1 1 2]\n"
     ]
    }
   ],
   "source": [
    "dot_products = input_table @ weights\n",
    "print(f'Dot products: {dot_products}')"
   ]
  },
  {
   "cell_type": "markdown",
   "id": "21eb980b-48d2-46fc-a7b9-a31c8506eb4a",
   "metadata": {},
   "source": [
    "### Step 3: define the threshold activation function"
   ]
  },
  {
   "cell_type": "code",
   "execution_count": 10,
   "id": "f670c216-e61d-4ec8-902d-57b3083af37a",
   "metadata": {},
   "outputs": [],
   "source": [
    "def linear_threshold_gate(dot: int, T: float) -> int:\n",
    "    if dot >= T:\n",
    "        return 1\n",
    "    else:\n",
    "        return 0"
   ]
  },
  {
   "cell_type": "markdown",
   "id": "1bf930c5-7307-4f4d-9bb8-2b5e0eb66be9",
   "metadata": {},
   "source": [
    "### Step 4: compute the output based on the threshold value\n"
   ]
  },
  {
   "cell_type": "code",
   "execution_count": 11,
   "id": "a7613b4f-f5b9-4919-a821-613e7fe54a72",
   "metadata": {},
   "outputs": [
    {
     "name": "stdout",
     "output_type": "stream",
     "text": [
      "Activation: 0\n",
      "Activation: 0\n",
      "Activation: 0\n",
      "Activation: 1\n"
     ]
    }
   ],
   "source": [
    "T = 2\n",
    "for i in range(0,4):\n",
    "    activation = linear_threshold_gate(dot_products[i], T)\n",
    "    print(f'Activation: {activation}')"
   ]
  },
  {
   "cell_type": "code",
   "execution_count": null,
   "id": "93ad1dcb-2bae-40b2-be16-ce1e797d18e8",
   "metadata": {},
   "outputs": [],
   "source": []
  }
 ],
 "metadata": {
  "kernelspec": {
   "display_name": "Python 3 (ipykernel)",
   "language": "python",
   "name": "python3"
  },
  "language_info": {
   "codemirror_mode": {
    "name": "ipython",
    "version": 3
   },
   "file_extension": ".py",
   "mimetype": "text/x-python",
   "name": "python",
   "nbconvert_exporter": "python",
   "pygments_lexer": "ipython3",
   "version": "3.11.5"
  }
 },
 "nbformat": 4,
 "nbformat_minor": 5
}
